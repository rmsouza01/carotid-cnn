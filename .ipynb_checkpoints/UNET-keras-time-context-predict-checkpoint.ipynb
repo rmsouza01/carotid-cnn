{
 "cells": [
  {
   "cell_type": "markdown",
   "metadata": {},
   "source": [
    "# Modified U-net with Time Context - Predict"
   ]
  },
  {
   "cell_type": "code",
   "execution_count": null,
   "metadata": {},
   "outputs": [],
   "source": [
    "%matplotlib inline\n",
    "import os\n",
    "import matplotlib.pylab as plt\n",
    "import numpy as np\n",
    "import keras\n",
    "from keras import backend as K\n",
    "from keras.models import Model\n",
    "from keras.layers import Input, Conv2D, MaxPooling2D, concatenate\n",
    "from keras.layers import UpSampling2D, Dropout \n",
    "from keras.layers.noise import GaussianNoise\n",
    "from keras.optimizers import Adam\n",
    "from keras.callbacks import ModelCheckpoint, EarlyStopping\n",
    "from keras.preprocessing.image import ImageDataGenerator\n",
    "import sys\n",
    "from cnn_utils import pad_images,rgb_images"
   ]
  },
  {
   "cell_type": "code",
   "execution_count": null,
   "metadata": {
    "collapsed": true
   },
   "outputs": [],
   "source": [
    "# CNN metrics for segmentation problems\n",
    "smooth = 1. #CNN dice coefficient smooth\n",
    "\n",
    "def dice_coef(y_true, y_pred):\n",
    "    ''' Metric used for CNN training'''\n",
    "    y_true_f = K.flatten(y_true)\n",
    "    y_pred_f = K.flatten(y_pred)\n",
    "    intersection = K.sum(y_true_f * y_pred_f)\n",
    "    return (2. * intersection + smooth) / (K.sum(y_true_f) + K.sum(y_pred_f) + smooth)\n",
    "\n",
    "def dice_coef_loss(y_true, y_pred):\n",
    "    ''' Loss function'''\n",
    "    return -dice_coef(y_true, y_pred)\n",
    "\n",
    "def get_unet_mod(patch_size = (None,None)):\n",
    "    ''' Get U-Net model with gaussian noise and dropout'''\n",
    "    \n",
    "    gaussian_noise_std = 0.025\n",
    "    dropout = 0.25\n",
    "    \n",
    "    inputs = Input((patch_size[0], patch_size[1],3))\n",
    "    input_with_noise = GaussianNoise(gaussian_noise_std)(inputs)    \n",
    "\n",
    "    conv1 = Conv2D(32, (3, 3), activation='relu', padding='same')(input_with_noise)\n",
    "    conv1 = Conv2D(32, (3, 3), activation='relu', padding='same')(conv1)\n",
    "    pool1 = MaxPooling2D(pool_size=(2, 2))(conv1)\n",
    "\n",
    "    conv2 = Conv2D(64, (3, 3), activation='relu', padding='same')(pool1)\n",
    "    conv2 = Conv2D(64, (3, 3), activation='relu', padding='same')(conv2)\n",
    "    pool2 = MaxPooling2D(pool_size=(2, 2))(conv2)\n",
    "    \n",
    "    conv3 = Conv2D(128, (3, 3), activation='relu', padding='same')(pool2)\n",
    "    conv3 = Conv2D(128, (3, 3), activation='relu', padding='same')(conv3)\n",
    "    pool3 = MaxPooling2D(pool_size=(2, 2))(conv3)\n",
    "    \n",
    "    conv4 = Conv2D(256, (3, 3), activation='relu', padding='same')(pool3)\n",
    "    conv4 = Conv2D(256, (3, 3), activation='relu', padding='same')(conv4)\n",
    "    pool4 = MaxPooling2D(pool_size=(2, 2))(conv4)\n",
    "    pool4 = Dropout(dropout)(pool4)\n",
    "\n",
    "    conv5 = Conv2D(512, (3, 3), activation='relu', padding='same')(pool4)\n",
    "    conv5 = Conv2D(512, (3, 3), activation='relu', padding='same')(conv5)\n",
    "\n",
    "    up6 = concatenate([UpSampling2D(size=(2, 2))(conv5), conv4],axis=-1)\n",
    "    up6 = Dropout(dropout)(up6)\n",
    "    conv6 = Conv2D(256, (3, 3), activation='relu', padding='same')(up6)\n",
    "    conv6 = Conv2D(256, (3, 3), activation='relu', padding='same')(conv6)\n",
    "\n",
    "    up7 = concatenate([UpSampling2D(size=(2, 2))(conv6), conv3],axis=-1)\n",
    "    up7 = Dropout(dropout)(up7)\n",
    "    conv7 = Conv2D(128, (3, 3), activation='relu', padding='same')(up7)\n",
    "    conv7 = Conv2D(128, (3, 3), activation='relu', padding='same')(conv7)\n",
    "\n",
    "    up8 = concatenate([UpSampling2D(size=(2, 2))(conv7), conv2],axis=-1)\n",
    "    up8 = Dropout(dropout)(up8)\n",
    "    conv8 = Conv2D(64, (3, 3), activation='relu', padding='same')(up8)\n",
    "    conv8 = Conv2D(64, (3, 3), activation='relu', padding='same')(conv8)\n",
    "\n",
    "    up9 = concatenate([UpSampling2D(size=(2, 2))(conv8), conv1], axis=-1)\n",
    "    up9 = Dropout(dropout)(up9)\n",
    "    conv9 = Conv2D(32, (3, 3), activation='relu', padding='same')(up9)\n",
    "    conv9 = Conv2D(32, (3, 3), activation='relu', padding='same')(conv9)\n",
    "\n",
    "    conv10 = Conv2D(1, (1, 1), activation='sigmoid')(conv9)\n",
    "\n",
    "    model = Model(input=inputs, output=conv10)\n",
    "    opt = Adam(lr=5e-5, decay = 1e-6)\n",
    "    model.compile(optimizer= opt,loss=dice_coef_loss, metrics=[dice_coef])\n",
    "\n",
    "    return model"
   ]
  },
  {
   "cell_type": "code",
   "execution_count": null,
   "metadata": {
    "collapsed": true
   },
   "outputs": [],
   "source": [
    "prefixes = [\"Kmd\",\"Djm\",\"ARS\",\"AS\",\"BAB\",\"ETB\",\"IC\",\"LKS\",\"MBT\",\"MK\",\"RAB\",\"SNL\"]\n",
    "orig_path = \"/media/roberto/DATA/GDrive/PDF-Calgary/Carotid-data/Original/\"\n",
    "out_path = \"/media/roberto/DATA/GDrive/PDF-Calgary/Carotid-data/CNN-time-resolved\"\n",
    "model_name = \"carotid_unet_tr_cnn\"\n",
    "period  = 16"
   ]
  },
  {
   "cell_type": "code",
   "execution_count": null,
   "metadata": {},
   "outputs": [],
   "source": [
    "for fold in xrange(12):\n",
    "    stats = np.load(prefixes[fold]+\".npy\")\n",
    "    mean = stats[0]\n",
    "    std = stats[1]\n",
    "\n",
    "    #Load the best_model during training\n",
    "    best_model = get_unet_mod()\n",
    "    best_model.load_weights(prefixes[fold] +model_name + '.hdf5')\n",
    "    \n",
    "    imgs_list = [] # Your images list goes here, unfortunately I can't provide them\n",
    "    \n",
    "    for img_path in imgs_list:\n",
    "        img = nib.load(img_path)\n",
    "        affine = img.affine\n",
    "        img = img.get_data()\n",
    "        img = img.transpose(2,0,1)\n",
    "        img_rgb = rgb_images(img,period)\n",
    "        img_rgb = 1.0*(img_rgb-img_rgb.min(axis=(1,2),keepdims = True))/(img_rgb.max(axis=(1,2),keepdims = True)-img_rgb.min(axis=(1,2),keepdims = True))\n",
    "        img_rgb-=mean\n",
    "        img_rgb/=std\n",
    "        img_rgb,nw,nz  = pad_images(img_rgb)\n",
    "        print img_rgb.shape\n",
    "        predict = best_model.predict(img_rgb)\n",
    "        \n",
    "        predict = predict.transpose(1,2,0,3)[:-nw,:-nz,:,0]\n",
    "        # After that all you need to do is save your segmentation \n",
    "        # using your favorite file format DICOM, nifti..."
   ]
  }
 ],
 "metadata": {
  "kernelspec": {
   "display_name": "Python 2",
   "language": "python",
   "name": "python2"
  },
  "language_info": {
   "codemirror_mode": {
    "name": "ipython",
    "version": 2
   },
   "file_extension": ".py",
   "mimetype": "text/x-python",
   "name": "python",
   "nbconvert_exporter": "python",
   "pygments_lexer": "ipython2",
   "version": "2.7.10"
  }
 },
 "nbformat": 4,
 "nbformat_minor": 2
}
